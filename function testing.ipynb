{
 "cells": [
  {
   "cell_type": "code",
   "execution_count": 1,
   "id": "a4c6b1f5",
   "metadata": {},
   "outputs": [],
   "source": [
    "from cold_kmeans import *"
   ]
  },
  {
   "cell_type": "code",
   "execution_count": 2,
   "id": "b82b5291",
   "metadata": {},
   "outputs": [],
   "source": [
    "import numpy as np\n",
    "import time\n",
    "import timeit\n",
    "import line_profiler\n",
    "import memory_profiler\n",
    "from sklearn.cluster import KMeans\n",
    "from sklearn.model_selection import KFold\n",
    "from sklearn.model_selection import cross_validate\n",
    "from sklearn.preprocessing import Normalizer\n",
    "from sklearn.metrics import mean_squared_error\n",
    "from sklearn.cluster import SpectralClustering\n",
    "from sklearn.model_selection import train_test_split\n",
    "from sklearn.model_selection import LeaveOneOut\n",
    "from sklearn.metrics.pairwise import laplacian_kernel\n",
    "from sklearn.preprocessing import StandardScaler"
   ]
  },
  {
   "cell_type": "code",
   "execution_count": 6,
   "id": "1a42376f",
   "metadata": {},
   "outputs": [],
   "source": [
    "# data from class, lab 3/4, hw2 (remove this comment later ok future me :D)\n",
    "students = pd.read_csv(\"students_info.csv\", sep=',')\n",
    "students = students[[\"coffee\", \"gym\"]]\n",
    "students_np = students.to_numpy()"
   ]
  },
  {
   "cell_type": "code",
   "execution_count": 12,
   "id": "423beb05",
   "metadata": {},
   "outputs": [
    {
     "name": "stdout",
     "output_type": "stream",
     "text": [
      "2.08 ms ± 330 µs per loop (mean ± std. dev. of 7 runs, 15 loops each)\n"
     ]
    }
   ],
   "source": [
    "%%timeit -r7 -n15\n",
    "\n",
    "sa, sb = cold_means(\"students_info.csv\", 3, 22, [\"coffee\", \"gym\"], 10)"
   ]
  },
  {
   "cell_type": "code",
   "execution_count": 13,
   "id": "28ce446c",
   "metadata": {
    "collapsed": true
   },
   "outputs": [
    {
     "name": "stdout",
     "output_type": "stream",
     "text": [
      "22.7 ms ± 471 µs per loop (mean ± std. dev. of 7 runs, 15 loops each)\n"
     ]
    }
   ],
   "source": [
    "%%timeit -r7 -n15\n",
    "\n",
    "km_alg = KMeans(n_clusters=3, init=\"random\", random_state = 22, max_iter = 200)\n",
    "fit1 = km_alg.fit(students_np)"
   ]
  },
  {
   "cell_type": "code",
   "execution_count": null,
   "id": "cb690ceb",
   "metadata": {},
   "outputs": [],
   "source": []
  }
 ],
 "metadata": {
  "kernelspec": {
   "display_name": "Python 3",
   "language": "python",
   "name": "python3"
  },
  "language_info": {
   "codemirror_mode": {
    "name": "ipython",
    "version": 3
   },
   "file_extension": ".py",
   "mimetype": "text/x-python",
   "name": "python",
   "nbconvert_exporter": "python",
   "pygments_lexer": "ipython3",
   "version": "3.10.3"
  },
  "vscode": {
   "interpreter": {
    "hash": "1a82093fadcd6d2aeb2050151f4bebab460693bb52a7cb3826f1b7ceb41f2cef"
   }
  }
 },
 "nbformat": 4,
 "nbformat_minor": 5
}
