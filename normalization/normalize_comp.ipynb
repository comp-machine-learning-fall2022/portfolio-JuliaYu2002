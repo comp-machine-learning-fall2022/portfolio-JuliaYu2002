{
 "cells": [
  {
   "attachments": {},
   "cell_type": "markdown",
   "metadata": {},
   "source": [
    "# Comparison of Normalize Implementations"
   ]
  },
  {
   "attachments": {},
   "cell_type": "markdown",
   "metadata": {},
   "source": [
    "## Import Statements"
   ]
  },
  {
   "cell_type": "code",
   "execution_count": 1,
   "metadata": {},
   "outputs": [],
   "source": [
    "from cold_normalize import *"
   ]
  },
  {
   "cell_type": "code",
   "execution_count": 2,
   "metadata": {},
   "outputs": [],
   "source": [
    "import numpy as np\n",
    "import pandas as pd\n",
    "import time\n",
    "import timeit\n",
    "import line_profiler\n",
    "import memory_profiler\n",
    "from sklearn.preprocessing import MinMaxScaler"
   ]
  },
  {
   "attachments": {},
   "cell_type": "markdown",
   "metadata": {},
   "source": [
    "## Data Loading"
   ]
  },
  {
   "cell_type": "code",
   "execution_count": 3,
   "metadata": {},
   "outputs": [],
   "source": [
    "pokemon = pd.read_csv(\"../pokedex.csv\", sep = \",\")\n",
    "pokemon = pokemon[[\"name\", \"status\", \"type_number\", \n",
    "        \"height_m\", \"weight_kg\", \"abilities_number\", \n",
    "        \"total_points\", \"hp\", \"attack\", \n",
    "        \"defense\", \"sp_attack\", \"sp_defense\", \n",
    "        \"speed\", \"egg_type_number\"]]\n",
    "pokemon_np = pokemon[[\"height_m\", \"total_points\"]].to_numpy()"
   ]
  },
  {
   "cell_type": "code",
   "execution_count": 4,
   "metadata": {},
   "outputs": [],
   "source": [
    "%load_ext memory_profiler"
   ]
  },
  {
   "attachments": {},
   "cell_type": "markdown",
   "metadata": {},
   "source": [
    "## Cold Implementation"
   ]
  },
  {
   "cell_type": "code",
   "execution_count": 5,
   "metadata": {},
   "outputs": [
    {
     "name": "stdout",
     "output_type": "stream",
     "text": [
      "14.1 ms ± 3.51 ms per loop (mean ± std. dev. of 7 runs, 15 loops each)\n"
     ]
    }
   ],
   "source": [
    "%%timeit -r7 -n15\n",
    "\n",
    "normed = cold_normalization(\"../pokedex.csv\", [\"height_m\", \"total_points\"])"
   ]
  },
  {
   "cell_type": "code",
   "execution_count": 6,
   "metadata": {},
   "outputs": [
    {
     "name": "stdout",
     "output_type": "stream",
     "text": [
      "CPU times: total: 15.6 ms\n",
      "Wall time: 14.2 ms\n"
     ]
    }
   ],
   "source": [
    "%%time\n",
    "\n",
    "normed = cold_normalization(\"../pokedex.csv\", [\"height_m\", \"total_points\"])"
   ]
  },
  {
   "cell_type": "code",
   "execution_count": 7,
   "metadata": {},
   "outputs": [
    {
     "name": "stdout",
     "output_type": "stream",
     "text": [
      "peak memory: 133.96 MiB, increment: 0.03 MiB\n"
     ]
    }
   ],
   "source": [
    "%memit cold_normalization(\"../pokedex.csv\", [\"height_m\", \"total_points\"])"
   ]
  },
  {
   "attachments": {},
   "cell_type": "markdown",
   "metadata": {},
   "source": [
    "## Sklearn Implementation"
   ]
  },
  {
   "cell_type": "code",
   "execution_count": 8,
   "metadata": {},
   "outputs": [
    {
     "name": "stdout",
     "output_type": "stream",
     "text": [
      "145 µs ± 47.6 µs per loop (mean ± std. dev. of 7 runs, 15 loops each)\n"
     ]
    }
   ],
   "source": [
    "%%timeit -r7 -n15\n",
    "\n",
    "given_norm = MinMaxScaler().fit_transform(pokemon_np)"
   ]
  },
  {
   "cell_type": "code",
   "execution_count": 9,
   "metadata": {},
   "outputs": [
    {
     "name": "stdout",
     "output_type": "stream",
     "text": [
      "CPU times: total: 0 ns\n",
      "Wall time: 689 µs\n"
     ]
    }
   ],
   "source": [
    "%%time\n",
    "\n",
    "given_norm = MinMaxScaler().fit_transform(pokemon_np)"
   ]
  },
  {
   "cell_type": "code",
   "execution_count": 13,
   "metadata": {},
   "outputs": [
    {
     "name": "stdout",
     "output_type": "stream",
     "text": [
      "peak memory: 133.68 MiB, increment: 0.00 MiB\n"
     ]
    }
   ],
   "source": [
    "%memit MinMaxScaler().fit_transform(pokemon_np)"
   ]
  }
 ],
 "metadata": {
  "kernelspec": {
   "display_name": "Python 3",
   "language": "python",
   "name": "python3"
  },
  "language_info": {
   "codemirror_mode": {
    "name": "ipython",
    "version": 3
   },
   "file_extension": ".py",
   "mimetype": "text/x-python",
   "name": "python",
   "nbconvert_exporter": "python",
   "pygments_lexer": "ipython3",
   "version": "3.10.3"
  },
  "orig_nbformat": 4,
  "vscode": {
   "interpreter": {
    "hash": "1a82093fadcd6d2aeb2050151f4bebab460693bb52a7cb3826f1b7ceb41f2cef"
   }
  }
 },
 "nbformat": 4,
 "nbformat_minor": 2
}
