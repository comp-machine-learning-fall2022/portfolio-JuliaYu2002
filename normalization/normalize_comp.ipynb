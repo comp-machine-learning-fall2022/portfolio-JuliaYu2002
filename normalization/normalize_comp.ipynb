{
 "cells": [
  {
   "cell_type": "code",
   "execution_count": 10,
   "metadata": {},
   "outputs": [],
   "source": [
    "from cold_normalize import *"
   ]
  },
  {
   "cell_type": "code",
   "execution_count": 11,
   "metadata": {},
   "outputs": [],
   "source": [
    "import numpy as np\n",
    "import pandas as pd\n",
    "import time\n",
    "import timeit\n",
    "import line_profiler\n",
    "import memory_profiler\n",
    "from sklearn.preprocessing import MinMaxScaler"
   ]
  },
  {
   "cell_type": "code",
   "execution_count": 12,
   "metadata": {},
   "outputs": [],
   "source": [
    "pokemon = pd.read_csv(\"../pokedex.csv\", sep = \",\")\n",
    "pokemon = pokemon[[\"name\", \"status\", \"type_number\", \n",
    "        \"height_m\", \"weight_kg\", \"abilities_number\", \n",
    "        \"total_points\", \"hp\", \"attack\", \n",
    "        \"defense\", \"sp_attack\", \"sp_defense\", \n",
    "        \"speed\", \"egg_type_number\"]]\n",
    "pokemon_np = pokemon[[\"height_m\", \"total_points\"]].to_numpy()\n",
    "\n",
    "# height and total pts = 11, 17"
   ]
  },
  {
   "cell_type": "code",
   "execution_count": 17,
   "metadata": {},
   "outputs": [
    {
     "name": "stdout",
     "output_type": "stream",
     "text": [
      "9.2 ms ± 548 µs per loop (mean ± std. dev. of 7 runs, 15 loops each)\n"
     ]
    }
   ],
   "source": [
    "%%timeit -r7 -n15\n",
    "\n",
    "normed = cold_normalization(\"../pokedex.csv\", [\"height_m\", \"total_points\"])\n",
    "# print(normed[:, [11, 17]])"
   ]
  },
  {
   "cell_type": "code",
   "execution_count": 18,
   "metadata": {},
   "outputs": [
    {
     "name": "stdout",
     "output_type": "stream",
     "text": [
      "133 µs ± 37.9 µs per loop (mean ± std. dev. of 7 runs, 15 loops each)\n"
     ]
    }
   ],
   "source": [
    "%%timeit -r7 -n15\n",
    "\n",
    "given_norm = MinMaxScaler().fit_transform(pokemon_np)\n",
    "# print(given_norm)"
   ]
  }
 ],
 "metadata": {
  "kernelspec": {
   "display_name": "Python 3",
   "language": "python",
   "name": "python3"
  },
  "language_info": {
   "codemirror_mode": {
    "name": "ipython",
    "version": 3
   },
   "file_extension": ".py",
   "mimetype": "text/x-python",
   "name": "python",
   "nbconvert_exporter": "python",
   "pygments_lexer": "ipython3",
   "version": "3.10.3"
  },
  "orig_nbformat": 4,
  "vscode": {
   "interpreter": {
    "hash": "1a82093fadcd6d2aeb2050151f4bebab460693bb52a7cb3826f1b7ceb41f2cef"
   }
  }
 },
 "nbformat": 4,
 "nbformat_minor": 2
}
