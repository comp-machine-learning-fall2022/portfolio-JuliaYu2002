{
 "cells": [
  {
   "cell_type": "code",
   "execution_count": null,
   "metadata": {},
   "outputs": [],
   "source": [
    "from cold_crossval import *"
   ]
  },
  {
   "cell_type": "code",
   "execution_count": null,
   "metadata": {},
   "outputs": [],
   "source": [
    "import numpy as np\n",
    "import pandas as pd\n",
    "import time\n",
    "import timeit\n",
    "import line_profiler\n",
    "import memory_profiler\n",
    "from sklearn.cluster import KMeans\n",
    "from scipy.spatial import distance"
   ]
  },
  {
   "cell_type": "code",
   "execution_count": null,
   "metadata": {},
   "outputs": [],
   "source": [
    "pokemon = pd.read_csv(\"../pokedex.csv\", sep = \",\")\n",
    "pokemon = pokemon[[\"name\", \"status\", \"type_number\", \n",
    "        \"height_m\", \"weight_kg\", \"abilities_number\", \n",
    "        \"total_points\", \"hp\", \"attack\", \n",
    "        \"defense\", \"sp_attack\", \"sp_defense\", \n",
    "        \"speed\", \"egg_type_number\"]]\n",
    "pokemon_np = pokemon[[\"height_m\", \"total_points\"]].to_numpy()"
   ]
  }
 ],
 "metadata": {
  "kernelspec": {
   "display_name": "Python 3",
   "language": "python",
   "name": "python3"
  },
  "language_info": {
   "name": "python",
   "version": "3.10.3 (tags/v3.10.3:a342a49, Mar 16 2022, 13:07:40) [MSC v.1929 64 bit (AMD64)]"
  },
  "orig_nbformat": 4,
  "vscode": {
   "interpreter": {
    "hash": "1a82093fadcd6d2aeb2050151f4bebab460693bb52a7cb3826f1b7ceb41f2cef"
   }
  }
 },
 "nbformat": 4,
 "nbformat_minor": 2
}
