{
 "cells": [
  {
   "attachments": {},
   "cell_type": "markdown",
   "metadata": {},
   "source": [
    "# Comparison of Kfold Implementations"
   ]
  },
  {
   "attachments": {},
   "cell_type": "markdown",
   "metadata": {},
   "source": [
    "## Import Statements"
   ]
  },
  {
   "cell_type": "code",
   "execution_count": 2,
   "metadata": {},
   "outputs": [],
   "source": [
    "from cold_crossval import *"
   ]
  },
  {
   "cell_type": "code",
   "execution_count": 25,
   "metadata": {},
   "outputs": [],
   "source": [
    "import numpy as np\n",
    "import pandas as pd\n",
    "import time\n",
    "import timeit\n",
    "import line_profiler\n",
    "import memory_profiler\n",
    "from sklearn.model_selection import cross_val_score, train_test_split\n",
    "from sklearn.tree import DecisionTreeClassifier\n",
    "from sklearn.metrics import mean_squared_error"
   ]
  },
  {
   "attachments": {},
   "cell_type": "markdown",
   "metadata": {},
   "source": [
    "## Data Loading"
   ]
  },
  {
   "cell_type": "code",
   "execution_count": 4,
   "metadata": {},
   "outputs": [],
   "source": [
    "overall_poke = data_reduction(\"../pokedex.csv\", [\"status\"])[[\"name\", \"status\", \"type_number\", \n",
    "        \"height_m\", \"weight_kg\", \"abilities_number\", \n",
    "        \"total_points\", \"hp\", \"attack\", \n",
    "        \"defense\", \"sp_attack\", \"sp_defense\", \n",
    "        \"speed\", \"egg_type_number\"]]\n",
    "overall_poke_np = overall_poke.dropna(axis = 0).to_numpy()"
   ]
  },
  {
   "cell_type": "code",
   "execution_count": 5,
   "metadata": {},
   "outputs": [],
   "source": [
    "%load_ext memory_profiler"
   ]
  },
  {
   "attachments": {},
   "cell_type": "markdown",
   "metadata": {},
   "source": [
    "## Cold Implementation"
   ]
  },
  {
   "cell_type": "code",
   "execution_count": 29,
   "metadata": {},
   "outputs": [
    {
     "name": "stdout",
     "output_type": "stream",
     "text": [
      "17.1 ms ± 1.31 ms per loop (mean ± std. dev. of 7 runs, 15 loops each)\n"
     ]
    }
   ],
   "source": [
    "%%timeit -r7 -n15\n",
    "cold_kfoldcv(data = overall_poke_np,\n",
    "         col_names = [\"name\", \"status\", \"type_number\", \"height_m\", \"weight_kg\", \"abilities_number\", \"total_points\", \"hp\", \"attack\", \"defense\", \"sp_attack\", \"sp_defense\", \"speed\", \"egg_type_number\"], \n",
    "         inputs = [\"total_points\", \"hp\", \"attack\", \"defense\", \"sp_attack\", \"sp_defense\", \"speed\"], \n",
    "         output = \"status\", \n",
    "         k = 10)"
   ]
  },
  {
   "cell_type": "code",
   "execution_count": 7,
   "metadata": {},
   "outputs": [
    {
     "name": "stdout",
     "output_type": "stream",
     "text": [
      "CPU times: total: 31.2 ms\n",
      "Wall time: 19.8 ms\n"
     ]
    },
    {
     "data": {
      "text/plain": [
       "17.547991623834"
      ]
     },
     "execution_count": 7,
     "metadata": {},
     "output_type": "execute_result"
    }
   ],
   "source": [
    "%%time\n",
    "cold_kfoldcv(data = overall_poke_np,\n",
    "         col_names = [\"name\", \"status\", \"type_number\", \"height_m\", \"weight_kg\", \"abilities_number\", \"total_points\", \"hp\", \"attack\", \"defense\", \"sp_attack\", \"sp_defense\", \"speed\", \"egg_type_number\"], \n",
    "         inputs = [\"total_points\", \"hp\", \"attack\", \"defense\", \"sp_attack\", \"sp_defense\", \"speed\"], \n",
    "         output = \"status\", \n",
    "         k = 10)"
   ]
  },
  {
   "cell_type": "code",
   "execution_count": 30,
   "metadata": {},
   "outputs": [
    {
     "name": "stdout",
     "output_type": "stream",
     "text": [
      "peak memory: 145.27 MiB, increment: 0.00 MiB\n"
     ]
    }
   ],
   "source": [
    "%memit cold_kfoldcv(data = overall_poke_np, col_names = [\"name\", \"status\", \"type_number\", \"height_m\", \"weight_kg\", \"abilities_number\", \"total_points\", \"hp\", \"attack\", \"defense\", \"sp_attack\", \"sp_defense\", \"speed\", \"egg_type_number\"], inputs = [\"total_points\", \"hp\", \"attack\", \"defense\", \"sp_attack\", \"sp_defense\", \"speed\"], output = \"status\", k = 10)"
   ]
  },
  {
   "cell_type": "code",
   "execution_count": 19,
   "metadata": {},
   "outputs": [
    {
     "data": {
      "text/plain": [
       "0.02912621359223301"
      ]
     },
     "execution_count": 19,
     "metadata": {},
     "output_type": "execute_result"
    }
   ],
   "source": [
    "train, test = train_test_split(overall_poke_np, train_size = .9, random_state = 2022)\n",
    "\n",
    "tree = DecisionTreeClassifier(ccp_alpha = 0.001, max_depth = 3)\n",
    "tree.fit(train[:, 6:13], train[:, 1].astype(int))\n",
    "\n",
    "preds = tree.predict(test[:, 6:13])\n",
    "\n",
    "cold_classification(preds, test[:, 1])"
   ]
  },
  {
   "attachments": {},
   "cell_type": "markdown",
   "metadata": {},
   "source": [
    "## Sklearn Implementation"
   ]
  },
  {
   "cell_type": "code",
   "execution_count": 32,
   "metadata": {},
   "outputs": [
    {
     "name": "stdout",
     "output_type": "stream",
     "text": [
      "18.6 ms ± 1.26 ms per loop (mean ± std. dev. of 7 runs, 15 loops each)\n"
     ]
    }
   ],
   "source": [
    "%%timeit -r7 -n15\n",
    "\n",
    "folds = KFold(n_splits = 10)\n",
    "\n",
    "tree = DecisionTreeClassifier(ccp_alpha = 0.001, max_depth = 3)\n",
    "cv_result = cross_val_score(tree, overall_poke_np[:, 6:13], overall_poke_np[:, 1].astype(int), cv = 10, scoring = 'accuracy')\n",
    "\n",
    "mean_cv = np.mean(cv_result)\n",
    "# print(1 - mean_cv)"
   ]
  },
  {
   "cell_type": "code",
   "execution_count": 12,
   "metadata": {},
   "outputs": [
    {
     "name": "stdout",
     "output_type": "stream",
     "text": [
      "CPU times: total: 15.6 ms\n",
      "Wall time: 23.2 ms\n"
     ]
    }
   ],
   "source": [
    "%%time\n",
    "\n",
    "folds = KFold(n_splits = 10)\n",
    "\n",
    "scorer = make_scorer(score_func = accuracy_score)\n",
    "tree = DecisionTreeClassifier(ccp_alpha = 0.001, max_depth = 3)\n",
    "cv_result = cross_val_score(tree, overall_poke_np[:, 6:13], overall_poke_np[:, 1].astype(int), cv = 10, scoring = make_scorer(accuracy_score))\n",
    "\n",
    "mean_cv = np.mean(cv_result)"
   ]
  },
  {
   "cell_type": "code",
   "execution_count": 33,
   "metadata": {},
   "outputs": [],
   "source": [
    "def fold_func(data):\n",
    "    folds = KFold(n_splits = 10)\n",
    "    tree = DecisionTreeClassifier(ccp_alpha = 0.001, max_depth = 3)\n",
    "\n",
    "    cv_result = cross_val_score(tree, data[:, 6:13], data[:, 1].astype(int), cv = 10, scoring = \"accuracy\")\n",
    "    mean_cv = np.mean(cv_result)"
   ]
  },
  {
   "cell_type": "code",
   "execution_count": 34,
   "metadata": {},
   "outputs": [
    {
     "name": "stdout",
     "output_type": "stream",
     "text": [
      "peak memory: 145.43 MiB, increment: 0.00 MiB\n"
     ]
    }
   ],
   "source": [
    "%memit fold_func(overall_poke_np)"
   ]
  }
 ],
 "metadata": {
  "kernelspec": {
   "display_name": "Python 3",
   "language": "python",
   "name": "python3"
  },
  "language_info": {
   "codemirror_mode": {
    "name": "ipython",
    "version": 3
   },
   "file_extension": ".py",
   "mimetype": "text/x-python",
   "name": "python",
   "nbconvert_exporter": "python",
   "pygments_lexer": "ipython3",
   "version": "3.10.3"
  },
  "orig_nbformat": 4,
  "vscode": {
   "interpreter": {
    "hash": "1a82093fadcd6d2aeb2050151f4bebab460693bb52a7cb3826f1b7ceb41f2cef"
   }
  }
 },
 "nbformat": 4,
 "nbformat_minor": 2
}
