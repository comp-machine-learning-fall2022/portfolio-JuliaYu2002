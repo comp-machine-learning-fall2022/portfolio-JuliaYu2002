{
 "cells": [
  {
   "cell_type": "code",
   "execution_count": 1,
   "id": "a4c6b1f5",
   "metadata": {},
   "outputs": [],
   "source": [
    "from cold_kmeans import *"
   ]
  },
  {
   "cell_type": "code",
   "execution_count": 2,
   "id": "b82b5291",
   "metadata": {},
   "outputs": [],
   "source": [
    "import numpy as np\n",
    "import time\n",
    "import timeit\n",
    "import line_profiler\n",
    "import memory_profiler\n",
    "from sklearn.cluster import KMeans"
   ]
  },
  {
   "cell_type": "code",
   "execution_count": 5,
   "id": "f8f249bf",
   "metadata": {},
   "outputs": [],
   "source": [
    "pokemon = pd.read_csv(\"../pokedex.csv\", sep = \",\")\n",
    "pokemon = pokemon[[\"name\", \"status\", \"type_number\", \n",
    "        \"height_m\", \"weight_kg\", \"abilities_number\", \n",
    "        \"total_points\", \"hp\", \"attack\", \n",
    "        \"defense\", \"sp_attack\", \"sp_defense\", \n",
    "        \"speed\", \"egg_type_number\"]]\n",
    "pokemon_np = pokemon[[\"height_m\", \"total_points\"]].to_numpy()"
   ]
  },
  {
   "cell_type": "code",
   "execution_count": 9,
   "id": "cb690ceb",
   "metadata": {},
   "outputs": [
    {
     "name": "stdout",
     "output_type": "stream",
     "text": [
      "8.55 ms ± 1.09 ms per loop (mean ± std. dev. of 7 runs, 15 loops each)\n"
     ]
    }
   ],
   "source": [
    "%%timeit -r7 -n15\n",
    "\n",
    "sa, sb = cold_means(\"../pokedex.csv\", 3, 22, [\"total_points\", \"height_m\"], 10)"
   ]
  },
  {
   "cell_type": "code",
   "execution_count": 10,
   "id": "fd12c831",
   "metadata": {},
   "outputs": [
    {
     "name": "stdout",
     "output_type": "stream",
     "text": [
      "23.8 ms ± 383 µs per loop (mean ± std. dev. of 7 runs, 15 loops each)\n"
     ]
    }
   ],
   "source": [
    "%%timeit -r7 -n15\n",
    "\n",
    "km_alg = KMeans(n_clusters=3, init=\"random\", random_state = 22, max_iter = 200)\n",
    "fit1 = km_alg.fit(pokemon_np)"
   ]
  }
 ],
 "metadata": {
  "kernelspec": {
   "display_name": "Python 3",
   "language": "python",
   "name": "python3"
  },
  "language_info": {
   "codemirror_mode": {
    "name": "ipython",
    "version": 3
   },
   "file_extension": ".py",
   "mimetype": "text/x-python",
   "name": "python",
   "nbconvert_exporter": "python",
   "pygments_lexer": "ipython3",
   "version": "3.10.3"
  },
  "vscode": {
   "interpreter": {
    "hash": "1a82093fadcd6d2aeb2050151f4bebab460693bb52a7cb3826f1b7ceb41f2cef"
   }
  }
 },
 "nbformat": 4,
 "nbformat_minor": 5
}
