{
 "cells": [
  {
   "attachments": {},
   "cell_type": "markdown",
   "id": "8084d53d",
   "metadata": {},
   "source": [
    "# Comparison of KMeans Implementations"
   ]
  },
  {
   "attachments": {},
   "cell_type": "markdown",
   "id": "0bc4ee9b",
   "metadata": {},
   "source": [
    "## Import Statements"
   ]
  },
  {
   "cell_type": "code",
   "execution_count": 1,
   "id": "a4c6b1f5",
   "metadata": {},
   "outputs": [],
   "source": [
    "from cold_kmeans import *"
   ]
  },
  {
   "cell_type": "code",
   "execution_count": 2,
   "id": "b82b5291",
   "metadata": {},
   "outputs": [],
   "source": [
    "import numpy as np\n",
    "import pandas as pd\n",
    "import time\n",
    "import timeit\n",
    "import line_profiler\n",
    "import memory_profiler\n",
    "from sklearn.cluster import KMeans"
   ]
  },
  {
   "attachments": {},
   "cell_type": "markdown",
   "id": "2490d696",
   "metadata": {},
   "source": [
    "## Data Loading"
   ]
  },
  {
   "cell_type": "code",
   "execution_count": 3,
   "id": "f8f249bf",
   "metadata": {},
   "outputs": [],
   "source": [
    "pokemon = pd.read_csv(\"../pokedex.csv\", sep = \",\")\n",
    "pokemon = pokemon[[\"name\", \"status\", \"type_number\", \n",
    "        \"height_m\", \"weight_kg\", \"abilities_number\", \n",
    "        \"total_points\", \"hp\", \"attack\", \n",
    "        \"defense\", \"sp_attack\", \"sp_defense\", \n",
    "        \"speed\", \"egg_type_number\"]]\n",
    "pokemon_np = pokemon[[\"height_m\", \"total_points\"]].to_numpy()"
   ]
  },
  {
   "cell_type": "code",
   "execution_count": 6,
   "id": "8e8c6171",
   "metadata": {},
   "outputs": [],
   "source": [
    "%load_ext memory_profiler"
   ]
  },
  {
   "attachments": {},
   "cell_type": "markdown",
   "id": "e5805e96",
   "metadata": {},
   "source": [
    "## Cold Implementation"
   ]
  },
  {
   "cell_type": "code",
   "execution_count": 4,
   "id": "cb690ceb",
   "metadata": {},
   "outputs": [
    {
     "name": "stdout",
     "output_type": "stream",
     "text": [
      "9 ms ± 687 µs per loop (mean ± std. dev. of 7 runs, 15 loops each)\n"
     ]
    }
   ],
   "source": [
    "%%timeit -r7 -n15\n",
    "\n",
    "sa, sb = cold_means(\"../pokedex.csv\", 3, 22, [\"total_points\", \"height_m\"], 10)"
   ]
  },
  {
   "cell_type": "code",
   "execution_count": 5,
   "id": "3b449a6a",
   "metadata": {},
   "outputs": [
    {
     "name": "stdout",
     "output_type": "stream",
     "text": [
      "CPU times: total: 31.2 ms\n",
      "Wall time: 11 ms\n"
     ]
    }
   ],
   "source": [
    "%%time\n",
    "\n",
    "sa, sb = cold_means(\"../pokedex.csv\", 3, 22, [\"total_points\", \"height_m\"], 10)"
   ]
  },
  {
   "cell_type": "code",
   "execution_count": 7,
   "id": "c72063b4",
   "metadata": {},
   "outputs": [
    {
     "name": "stdout",
     "output_type": "stream",
     "text": [
      "peak memory: 140.77 MiB, increment: 0.05 MiB\n"
     ]
    }
   ],
   "source": [
    "%memit cold_means(\"../pokedex.csv\", 3, 22, [\"total_points\", \"height_m\"], 10)"
   ]
  },
  {
   "attachments": {},
   "cell_type": "markdown",
   "id": "98c9ecad",
   "metadata": {},
   "source": [
    "## Sklearn Implementation"
   ]
  },
  {
   "cell_type": "code",
   "execution_count": 8,
   "id": "fd12c831",
   "metadata": {},
   "outputs": [
    {
     "name": "stdout",
     "output_type": "stream",
     "text": [
      "25.5 ms ± 805 µs per loop (mean ± std. dev. of 7 runs, 15 loops each)\n"
     ]
    }
   ],
   "source": [
    "%%timeit -r7 -n15\n",
    "\n",
    "km_alg = KMeans(n_clusters=3, init=\"random\", random_state = 22, max_iter = 200)\n",
    "fit = km_alg.fit(pokemon_np)"
   ]
  },
  {
   "cell_type": "code",
   "execution_count": 9,
   "id": "bf63e56f",
   "metadata": {},
   "outputs": [
    {
     "name": "stdout",
     "output_type": "stream",
     "text": [
      "CPU times: total: 203 ms\n",
      "Wall time: 32 ms\n"
     ]
    }
   ],
   "source": [
    "%%time\n",
    "\n",
    "km_alg = KMeans(n_clusters=3, init=\"random\", random_state = 22, max_iter = 200)\n",
    "fit = km_alg.fit(pokemon_np)"
   ]
  },
  {
   "cell_type": "code",
   "execution_count": 10,
   "id": "02ca9b64",
   "metadata": {},
   "outputs": [],
   "source": [
    "def skmeans(data):\n",
    "    km_alg = KMeans(n_clusters=3, init=\"random\", random_state = 22, max_iter = 200)\n",
    "    fit = km_alg.fit(data)"
   ]
  },
  {
   "cell_type": "code",
   "execution_count": 11,
   "id": "d98799e7",
   "metadata": {},
   "outputs": [
    {
     "name": "stdout",
     "output_type": "stream",
     "text": [
      "peak memory: 141.59 MiB, increment: 0.00 MiB\n"
     ]
    }
   ],
   "source": [
    "%memit skmeans(pokemon_np)"
   ]
  }
 ],
 "metadata": {
  "kernelspec": {
   "display_name": "Python 3",
   "language": "python",
   "name": "python3"
  },
  "language_info": {
   "codemirror_mode": {
    "name": "ipython",
    "version": 3
   },
   "file_extension": ".py",
   "mimetype": "text/x-python",
   "name": "python",
   "nbconvert_exporter": "python",
   "pygments_lexer": "ipython3",
   "version": "3.10.3"
  },
  "vscode": {
   "interpreter": {
    "hash": "1a82093fadcd6d2aeb2050151f4bebab460693bb52a7cb3826f1b7ceb41f2cef"
   }
  }
 },
 "nbformat": 4,
 "nbformat_minor": 5
}
